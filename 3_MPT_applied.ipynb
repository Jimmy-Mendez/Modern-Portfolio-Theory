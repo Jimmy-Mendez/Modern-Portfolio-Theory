{
 "cells": [
  {
   "cell_type": "markdown",
   "metadata": {},
   "source": [
    "## Now, let us use what we learned through the MPT model and use real data to get the optimal portfolio for 3 stocks I invest in. For this model, I will use the month return of the stocks."
   ]
  },
  {
   "cell_type": "code",
   "execution_count": 24,
   "metadata": {},
   "outputs": [],
   "source": [
    "from alpha_vantage.timeseries import TimeSeries\n",
    "\n",
    "import datetime\n",
    "import pandas as pd\n",
    "from key import key\n",
    "\n",
    "TODAY = datetime.date.today()\n",
    "ONE_WEEK = datetime.timedelta(days=7)\n",
    "ONE_DAY = datetime.timedelta(days=1)\n",
    " \n",
    "\n",
    "def save_dataset(symbol,days):\n",
    "    api_key = key\n",
    "    ts = TimeSeries(key=api_key, output_format='pandas')\n",
    "    data, meta_data = ts.get_daily(symbol, outputsize='full')\n",
    "    data = data.shift(periods=days, freq=None, axis=0, fill_value=0)\n",
    "    data = data.shift(periods=days, freq=\"D\")\n",
    "    data.to_csv(f'./{symbol}_daily.csv')\n",
    "\n",
    "save_dataset('VXUS',1)\n",
    "save_dataset('VTI',1)\n",
    "save_dataset('BBUS',1)"
   ]
  },
  {
   "cell_type": "code",
   "execution_count": 25,
   "metadata": {},
   "outputs": [],
   "source": [
    "monthly_vxus = pd.read_csv('VXUS_daily.csv', nrows = 66)\n",
    "monthly_vxus = monthly_vxus.drop([0])\n",
    "monthly_vti = pd.read_csv('VTI_daily.csv', nrows = 66)\n",
    "monthly_vti = monthly_vti.drop([0])\n",
    "monthly_bbus = pd.read_csv('BBUS_daily.csv', nrows = 66)\n",
    "monthly_bbus = monthly_bbus.drop([0])\n",
    "\n"
   ]
  },
  {
   "cell_type": "code",
   "execution_count": 26,
   "metadata": {},
   "outputs": [
    {
     "name": "stdout",
     "output_type": "stream",
     "text": [
      "          date  1. open  2. high   3. low  4. close  5. volume\n",
      "1   2021-10-23   65.500  65.6350  65.2900     65.55  2118272.0\n",
      "2   2021-10-22   65.510  65.7390  65.2300     65.48  2412334.0\n",
      "3   2021-10-21   65.220  65.4250  65.1700     65.28  2856510.0\n",
      "4   2021-10-20   65.560  65.7450  65.4550     65.67  2097465.0\n",
      "5   2021-10-19   65.320  65.5450  65.2700     65.50  2345399.0\n",
      "..         ...      ...      ...      ...       ...        ...\n",
      "61  2021-07-30   64.960  65.2100  64.7550     64.94  2499161.0\n",
      "62  2021-07-29   65.384  65.4600  65.2850     65.32  2212919.0\n",
      "63  2021-07-28   64.500  65.0300  64.3681     64.92  2919667.0\n",
      "64  2021-07-27   64.170  64.2350  63.7950     64.23  4227361.0\n",
      "65  2021-07-24   64.600  64.8484  64.5700     64.80  2365902.0\n",
      "\n",
      "[65 rows x 6 columns]\n"
     ]
    }
   ],
   "source": [
    "print(monthly_vxus)"
   ]
  },
  {
   "cell_type": "code",
   "execution_count": 27,
   "metadata": {},
   "outputs": [],
   "source": [
    "monthly_vxus['return'] = monthly_vxus['4. close'].pct_change()"
   ]
  },
  {
   "cell_type": "code",
   "execution_count": 28,
   "metadata": {},
   "outputs": [
    {
     "name": "stdout",
     "output_type": "stream",
     "text": [
      "          date  1. open  2. high   3. low  4. close  5. volume    return\n",
      "1   2021-10-23   65.500  65.6350  65.2900     65.55  2118272.0       NaN\n",
      "2   2021-10-22   65.510  65.7390  65.2300     65.48  2412334.0 -0.001068\n",
      "3   2021-10-21   65.220  65.4250  65.1700     65.28  2856510.0 -0.003054\n",
      "4   2021-10-20   65.560  65.7450  65.4550     65.67  2097465.0  0.005974\n",
      "5   2021-10-19   65.320  65.5450  65.2700     65.50  2345399.0 -0.002589\n",
      "..         ...      ...      ...      ...       ...        ...       ...\n",
      "61  2021-07-30   64.960  65.2100  64.7550     64.94  2499161.0 -0.004140\n",
      "62  2021-07-29   65.384  65.4600  65.2850     65.32  2212919.0  0.005852\n",
      "63  2021-07-28   64.500  65.0300  64.3681     64.92  2919667.0 -0.006124\n",
      "64  2021-07-27   64.170  64.2350  63.7950     64.23  4227361.0 -0.010628\n",
      "65  2021-07-24   64.600  64.8484  64.5700     64.80  2365902.0  0.008874\n",
      "\n",
      "[65 rows x 7 columns]\n"
     ]
    }
   ],
   "source": [
    "print(monthly_vxus)"
   ]
  },
  {
   "cell_type": "code",
   "execution_count": 29,
   "metadata": {},
   "outputs": [],
   "source": [
    "monthly_vti['return'] = monthly_vti['4. close'].pct_change()\n",
    "monthly_bbus['return'] = monthly_bbus['4. close'].pct_change()"
   ]
  },
  {
   "cell_type": "code",
   "execution_count": 30,
   "metadata": {},
   "outputs": [],
   "source": [
    "vxus = list(monthly_vxus['return'])\n",
    "vxus = vxus[1:66]"
   ]
  },
  {
   "cell_type": "code",
   "execution_count": 31,
   "metadata": {},
   "outputs": [],
   "source": [
    "vti = list(monthly_vti['return'])\n",
    "vti = vti[1:66]\n",
    "bbus = list(monthly_bbus['return'])\n",
    "bbus = bbus[1:66]"
   ]
  },
  {
   "cell_type": "code",
   "execution_count": 32,
   "metadata": {},
   "outputs": [],
   "source": [
    "from MPT import expected_value, expected_return_port, risk_port, randWeights, makeFrontier, port_ret_cml, makeCML_ef"
   ]
  },
  {
   "cell_type": "code",
   "execution_count": 33,
   "metadata": {},
   "outputs": [
    {
     "data": {
      "image/png": "[encoded data removed]",
      "text/plain": [
       "<Figure size 432x288 with 1 Axes>"
      ]
     },
     "metadata": {
      "needs_background": "light"
     },
     "output_type": "display_data"
    }
   ],
   "source": [
    "portfolio = [vxus,vti,bbus]\n",
    "makeFrontier(portfolio)"
   ]
  },
  {
   "cell_type": "code",
   "execution_count": 34,
   "metadata": {},
   "outputs": [],
   "source": [
    "def getOptimal(stock_vecs,risk_tol):\n",
    "    for i in range(6000):\n",
    "        weights = randWeights(len(stock_vecs))\n",
    "        exp = expected_return_port(weights, stock_vecs)\n",
    "        risk = risk_port(weights, stock_vecs)\n",
    "        if i == 0:\n",
    "            optWeights = weights\n",
    "            best = exp\n",
    "            optExp = exp\n",
    "            optRisk = risk\n",
    "        else:\n",
    "            if exp > best:\n",
    "                if risk < risk_tol: \n",
    "                    optWeights = weights\n",
    "                    best = exp\n",
    "                    optExp = exp\n",
    "                    optRisk = risk          \n",
    "    print(\"The optimal strategy would be:\", weights)\n",
    "    print(\"The optimal strategy return would be:\", optExp)\n",
    "    print(\"The optimal strategy risk would be:\", optRisk)\n",
    "    return weights\n",
    "        "
   ]
  },
  {
   "cell_type": "code",
   "execution_count": 35,
   "metadata": {},
   "outputs": [
    {
     "name": "stdout",
     "output_type": "stream",
     "text": [
      "The optimal strategy would be: [0.18217974371466614, 0.41608283325102824, 0.4017374230343056]\n",
      "The optimal strategy return would be: -0.0001515779118068985\n",
      "The optimal strategy risk would be: 0.00772454407776648\n"
     ]
    },
    {
     "data": {
      "text/plain": [
       "[0.18217974371466614, 0.41608283325102824, 0.4017374230343056]"
      ]
     },
     "execution_count": 35,
     "metadata": {},
     "output_type": "execute_result"
    }
   ],
   "source": [
    "getOptimal(portfolio,.1)"
   ]
  },
  {
   "cell_type": "markdown",
   "metadata": {},
   "source": [
    "### Potential improvements: make it so that the risk is calculated using a longer time horizon than the expected return?"
   ]
  },
  {
   "cell_type": "code",
   "execution_count": null,
   "metadata": {},
   "outputs": [],
   "source": []
  }
 ],
 "metadata": {
  "kernelspec": {
   "display_name": "Python 3",
   "language": "python",
   "name": "python3"
  },
  "language_info": {
   "codemirror_mode": {
    "name": "ipython",
    "version": 3
   },
   "file_extension": ".py",
   "mimetype": "text/x-python",
   "name": "python",
   "nbconvert_exporter": "python",
   "pygments_lexer": "ipython3",
   "version": "3.8.5"
  }
 },
 "nbformat": 4,
 "nbformat_minor": 4
}

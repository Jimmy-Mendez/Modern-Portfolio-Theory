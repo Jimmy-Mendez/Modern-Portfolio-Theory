{
 "cells": [
  {
   "cell_type": "markdown",
   "metadata": {},
   "source": [
    "## Let's start with Harry Markowitz's modern portfolio theory (MPT)\n",
    "Our return on our overall portfoilio, denoted $R_p$, can be specified as the sum of the individual shares of a certain asset in your portfolio times the return of the asset. When you invest in n assets, this can be written as: $$R_p = \\sum_{i=1}^n w_i R_i$$ and the expected return would be: $$E(R_p) = \\sum_{i=1}^n w_i E(R_i)$$\n",
    "\n",
    "The variance of the return of the portfolio $\\sigma_p^2$ can be written as: $$\\sigma_p^2 = \\sum_{i} w_i^2 \\sigma_i^2 + \\sum_{i}\\sum_{j\\neq i}w_i w_j \\sigma_i \\sigma_j corr(i,j) \\\\ = \\sum_{i}\\sum_{j}w_i w_j cov(i,j)$$ where $cov(i,j) = 1$ when $i=j$. So the risk, measured as the standard deviation of $E(R_p)$ is: $$\\sqrt{\\sum_{i}\\sum_{j}w_i w_j cov(i,j)}$$\n",
    "\n",
    "Let's code these formulas to get the expected risk and return of a portfoilio. "
   ]
  },
  {
   "cell_type": "code",
   "execution_count": 29,
   "metadata": {},
   "outputs": [],
   "source": [
    "def expected_value(stock_return_vec):\n",
    "    n = len(stock_return_vec)\n",
    "    val = 0\n",
    "    for i in range(n):\n",
    "        val += (stock_return_vec[i]*(1/n))\n",
    "    return val\n",
    "\n",
    "# takes in a vector of the overall share of each stock in your portfolio,\n",
    "# and a list of lists with the returns of each stock\n",
    "#the lengths of these vectors should be equivalent\n",
    "def expected_return_port(weights, stock_vecs):\n",
    "    exp_port = 0\n",
    "    n = len(stock_vecs)      \n",
    "    for i in range(n):\n",
    "        exp_port += (expected_value(stock_vecs[i]))*weights[i]\n",
    "    return exp_port\n"
   ]
  },
  {
   "cell_type": "markdown",
   "metadata": {},
   "source": [
    "### Let's test these functions. I have 3 stocks, A, B, and C. Over 5 days their retruns are (0,7.2,7.1,-5,11.5), (-1.4,4.5,7.1,3.2,2.2), and (7.2,1.2,1.2,4,12.9) respectively. "
   ]
  },
  {
   "cell_type": "code",
   "execution_count": 30,
   "metadata": {},
   "outputs": [],
   "source": [
    "ret_A = [0,7.2,7.1,-5,11.5]\n",
    "ret_B = [-1.4,-4.5,7.1,3.2,2.2]\n",
    "ret_C = [7.2,1.2,1.2,4,12.9]"
   ]
  },
  {
   "cell_type": "markdown",
   "metadata": {},
   "source": [
    "### Their expected values are:"
   ]
  },
  {
   "cell_type": "code",
   "execution_count": 31,
   "metadata": {},
   "outputs": [
    {
     "name": "stdout",
     "output_type": "stream",
     "text": [
      "4.16\n",
      "1.3200000000000003\n",
      "5.300000000000001\n"
     ]
    }
   ],
   "source": [
    "exp_A = expected_value(ret_A) \n",
    "exp_B = expected_value(ret_B) \n",
    "exp_C = expected_value(ret_C)\n",
    "\n",
    "print(exp_A)\n",
    "print(exp_B)\n",
    "print(exp_C)"
   ]
  },
  {
   "cell_type": "markdown",
   "metadata": {},
   "source": [
    "### Say I invest 20% of my money in A, 40% of my money in B and 40% of my money in C. Then, the expected return on my portfoilio would be:"
   ]
  },
  {
   "cell_type": "code",
   "execution_count": 32,
   "metadata": {},
   "outputs": [
    {
     "name": "stdout",
     "output_type": "stream",
     "text": [
      "3.480000000000001\n"
     ]
    }
   ],
   "source": [
    "portfolio = [ret_A, ret_B, ret_C]\n",
    "shares = [.2,.4,.4]\n",
    "print(expected_return_port(shares, portfolio))"
   ]
  },
  {
   "cell_type": "markdown",
   "metadata": {},
   "source": [
    "### So my expected retrun on this portfolio would be 4.2%. Now let's calculate the risk of the portflio, measured as the standard deviation of the expected return of the portfolio"
   ]
  },
  {
   "cell_type": "code",
   "execution_count": 33,
   "metadata": {},
   "outputs": [],
   "source": [
    "from math import sqrt\n",
    "\n",
    "def var(stock_vec):\n",
    "    n = len(stock_vec)\n",
    "    square_vec= []\n",
    "    for i in range(n):\n",
    "        square_vec.append(stock_vec[i]*stock_vec[i])\n",
    "    exp = expected_value(stock_vec)\n",
    "    var = expected_value(square_vec)-(exp*exp)\n",
    "    return var\n",
    "\n",
    "def corr(i,j):\n",
    "    exp_i = expected_value(i)\n",
    "    exp_j = expected_value(j)\n",
    "    n = len(i)\n",
    "    num = 0\n",
    "    for k in range(n):\n",
    "        num += (i[k]-exp_i)*(j[k]-exp_j)\n",
    "    denom = (sqrt(var(i)))*(sqrt(var(j)))\n",
    "    corr_coeff = num/denom\n",
    "    return corr_coeff\n",
    "\n",
    "def cov(i,j):\n",
    "    exp_i = expected_value(i)\n",
    "    exp_j = expected_value(j)\n",
    "    n = len(i)\n",
    "    num = 0\n",
    "    for k in range(n):\n",
    "        num += (i[k]-exp_i)*(j[k]-exp_j)\n",
    "    cov_i_j = (1/(n-1))*num\n",
    "    return cov_i_j\n",
    "    \n",
    "\n",
    "def risk_port(weights, stock_vecs):\n",
    "    var = 0\n",
    "    for i in range(len(stock_vecs)):\n",
    "        for j in range(len(stock_vecs)):\n",
    "            var += weights[i]*weights[j]*cov(stock_vecs[i],stock_vecs[j])\n",
    "    return sqrt(var)\n",
    "                \n",
    "    "
   ]
  },
  {
   "cell_type": "code",
   "execution_count": 34,
   "metadata": {},
   "outputs": [],
   "source": [
    "### The standard deviations of each individual asset are:"
   ]
  },
  {
   "cell_type": "code",
   "execution_count": 35,
   "metadata": {},
   "outputs": [
    {
     "name": "stdout",
     "output_type": "stream",
     "text": [
      "5.881700434398203\n",
      "3.9746194786419498\n",
      "4.397271881519267\n"
     ]
    }
   ],
   "source": [
    "print(sqrt(var(ret_A)))\n",
    "print(sqrt(var(ret_B)))\n",
    "print(sqrt(var(ret_C)))"
   ]
  },
  {
   "cell_type": "markdown",
   "metadata": {},
   "source": [
    "### And the risk of the portfolio I constructed above with stocks A, B, and C would be:"
   ]
  },
  {
   "cell_type": "code",
   "execution_count": 36,
   "metadata": {},
   "outputs": [
    {
     "name": "stdout",
     "output_type": "stream",
     "text": [
      "3.1781441125285683\n"
     ]
    }
   ],
   "source": [
    "print(risk_port(shares, portfolio))"
   ]
  },
  {
   "cell_type": "markdown",
   "metadata": {},
   "source": [
    "### Our goal is to have a portfolio risk smaller that of the individual assets, which we acheived here. We can create an efficient frontier by taking random weights and plotting the expected return and standard deviations"
   ]
  },
  {
   "cell_type": "code",
   "execution_count": 37,
   "metadata": {},
   "outputs": [],
   "source": [
    "from random import random\n",
    "\n",
    "def randWeights(size):\n",
    "    list = []\n",
    "    total = 0\n",
    "    for i in range(size):\n",
    "        num = random()\n",
    "        list.append(num)\n",
    "        total += num\n",
    "    for i in range(size):\n",
    "        list[i] = list[i]/total\n",
    "    return list"
   ]
  },
  {
   "cell_type": "code",
   "execution_count": 38,
   "metadata": {},
   "outputs": [
    {
     "name": "stdout",
     "output_type": "stream",
     "text": [
      "[0.2639316336897326, 0.24935883110880422, 0.4867095352014632]\n"
     ]
    }
   ],
   "source": [
    "print(randWeights(3))"
   ]
  },
  {
   "cell_type": "code",
   "execution_count": 39,
   "metadata": {},
   "outputs": [],
   "source": [
    "import matplotlib.pyplot as plt\n",
    "def makeFrontier(stock_vecs):\n",
    "    returns = []\n",
    "    stdev = []\n",
    "    w = []\n",
    "    for i in range(6000):\n",
    "        weights = randWeights(len(stock_vecs))\n",
    "        returns.append(expected_return_port(weights, stock_vecs))\n",
    "        stdev.append(risk_port(weights, stock_vecs))\n",
    "        w.append(weights)\n",
    "    plt.scatter(stdev, returns)\n",
    "    plt.title(\"Efficient Frontier\")\n",
    "    plt.xlabel(\"risk\")\n",
    "    plt.ylabel(\"return\")\n",
    "    plt.show()"
   ]
  },
  {
   "cell_type": "code",
   "execution_count": 40,
   "metadata": {},
   "outputs": [
    {
     "data": {
      "image/png": "[encoded data removed]",
      "text/plain": [
       "<Figure size 432x288 with 1 Axes>"
      ]
     },
     "metadata": {
      "needs_background": "light"
     },
     "output_type": "display_data"
    }
   ],
   "source": [
    "makeFrontier(portfolio)"
   ]
  },
  {
   "cell_type": "code",
   "execution_count": null,
   "metadata": {},
   "outputs": [],
   "source": []
  }
 ],
 "metadata": {
  "kernelspec": {
   "display_name": "Python 3",
   "language": "python",
   "name": "python3"
  },
  "language_info": {
   "codemirror_mode": {
    "name": "ipython",
    "version": 3
   },
   "file_extension": ".py",
   "mimetype": "text/x-python",
   "name": "python",
   "nbconvert_exporter": "python",
   "pygments_lexer": "ipython3",
   "version": "3.8.5"
  }
 },
 "nbformat": 4,
 "nbformat_minor": 4
}

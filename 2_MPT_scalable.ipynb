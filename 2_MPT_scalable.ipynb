{
 "cells": [
  {
   "cell_type": "markdown",
   "metadata": {},
   "source": [
    "## Now, let's construct the same model but scalable"
   ]
  },
  {
   "cell_type": "code",
   "execution_count": 83,
   "metadata": {},
   "outputs": [],
   "source": [
    "from statistics import mean\n",
    "import numpy as np\n",
    "\n",
    "def expected_value(stock_return_vec):\n",
    "    return mean(stock_return_vec)\n",
    "\n",
    "# takes in a vector of the overall share of each stock in your portfolio,\n",
    "# and a list of lists with the returns of each stock\n",
    "#the lengths of these vectors should be equivalent\n",
    "def expected_return_port(weights, stock_vecs):\n",
    "    means = []\n",
    "    for i in range(len(stock_vecs)):\n",
    "        means.append(mean(stock_vecs[i]))\n",
    "    return np.dot(means,weights)\n"
   ]
  },
  {
   "cell_type": "markdown",
   "metadata": {},
   "source": [
    "### Let's test these functions. I have 3 stocks, A, B, and C. Over 5 days their retruns are (0,7.2,7.1,-5,11.5), (-1.4,4.5,7.1,3.2,2.2), and (7.2,1.2,1.2,4,12.9) respectively. "
   ]
  },
  {
   "cell_type": "code",
   "execution_count": 84,
   "metadata": {},
   "outputs": [],
   "source": [
    "ret_A = [0,7.2,7.1,-5,11.5]\n",
    "ret_B = [-1.4,-4.5,7.1,3.2,2.2]\n",
    "ret_C = [7.2,1.2,1.2,4,12.9]"
   ]
  },
  {
   "cell_type": "markdown",
   "metadata": {},
   "source": [
    "### Their expected values are:"
   ]
  },
  {
   "cell_type": "code",
   "execution_count": 85,
   "metadata": {},
   "outputs": [
    {
     "name": "stdout",
     "output_type": "stream",
     "text": [
      "4.16\n",
      "1.32\n",
      "5.3\n"
     ]
    }
   ],
   "source": [
    "exp_A = expected_value(ret_A) \n",
    "exp_B = expected_value(ret_B) \n",
    "exp_C = expected_value(ret_C)\n",
    "\n",
    "print(exp_A)\n",
    "print(exp_B)\n",
    "print(exp_C)"
   ]
  },
  {
   "cell_type": "markdown",
   "metadata": {},
   "source": [
    "\n",
    "### Say I invest 20% of my money in A, 40% of my money in B and 40% of my money in C. Then, the expected return on my portfoilio would be:"
   ]
  },
  {
   "cell_type": "code",
   "execution_count": 86,
   "metadata": {},
   "outputs": [
    {
     "name": "stdout",
     "output_type": "stream",
     "text": [
      "3.48\n"
     ]
    }
   ],
   "source": [
    "portfolio = [ret_A, ret_B, ret_C]\n",
    "shares = [.2,.4,.4]\n",
    "print(expected_return_port(shares, portfolio))"
   ]
  },
  {
   "cell_type": "markdown",
   "metadata": {},
   "source": [
    "### So my expected retrun on this portfolio would be 4.2%. Now let's calculate the risk of the portflio, measured as the standard deviation of the expected return of the portfolio"
   ]
  },
  {
   "cell_type": "code",
   "execution_count": 87,
   "metadata": {},
   "outputs": [],
   "source": [
    "from math import sqrt\n",
    "\n",
    "def risk_port(weights, stock_vecs):\n",
    "    return sqrt(np.dot(np.dot(np.cov(stock_vecs),weights),weights))"
   ]
  },
  {
   "cell_type": "code",
   "execution_count": 88,
   "metadata": {},
   "outputs": [],
   "source": [
    "### The standard deviations of each individual asset are:"
   ]
  },
  {
   "cell_type": "markdown",
   "metadata": {},
   "source": [
    "### And the risk of the portfolio I constructed above with stocks A, B, and C would be:"
   ]
  },
  {
   "cell_type": "code",
   "execution_count": 89,
   "metadata": {},
   "outputs": [
    {
     "name": "stdout",
     "output_type": "stream",
     "text": [
      "3.1781441125285683\n"
     ]
    }
   ],
   "source": [
    "print(risk_port(shares, portfolio))"
   ]
  },
  {
   "cell_type": "markdown",
   "metadata": {},
   "source": [
    "### Our goal is to have a portfolio risk smaller that of the individual assets, which we acheived here. We can create an efficient frontier by taking random weights and plotting the expected return and standard deviations"
   ]
  },
  {
   "cell_type": "code",
   "execution_count": 90,
   "metadata": {},
   "outputs": [],
   "source": [
    "from random import random\n",
    "\n",
    "def randWeights(size):\n",
    "    list = []\n",
    "    total = 0\n",
    "    for i in range(size):\n",
    "        num = random()\n",
    "        list.append(num)\n",
    "        total += num\n",
    "    for i in range(size):\n",
    "        list[i] = list[i]/total\n",
    "    return list"
   ]
  },
  {
   "cell_type": "code",
   "execution_count": 91,
   "metadata": {},
   "outputs": [
    {
     "name": "stdout",
     "output_type": "stream",
     "text": [
      "[0.3135250670646368, 0.3396756111225049, 0.3467993218128584]\n"
     ]
    }
   ],
   "source": [
    "print(randWeights(3))"
   ]
  },
  {
   "cell_type": "code",
   "execution_count": 92,
   "metadata": {},
   "outputs": [],
   "source": [
    "import matplotlib.pyplot as plt\n",
    "def makeFrontier(stock_vecs):\n",
    "    returns = []\n",
    "    stdev = []\n",
    "    w = []\n",
    "    for i in range(6000):\n",
    "        weights = randWeights(len(stock_vecs))\n",
    "        returns.append(expected_return_port(weights, stock_vecs))\n",
    "        stdev.append(risk_port(weights, stock_vecs))\n",
    "        w.append(weights)\n",
    "    plt.scatter(stdev, returns)\n",
    "    plt.title(\"Efficient Frontier\")\n",
    "    plt.xlabel(\"risk\")\n",
    "    plt.ylabel(\"return\")\n",
    "    plt.show()"
   ]
  },
  {
   "cell_type": "code",
   "execution_count": 93,
   "metadata": {},
   "outputs": [
    {
     "data": {
      "image/png": "[encoded data removed]",
      "text/plain": [
       "<Figure size 432x288 with 1 Axes>"
      ]
     },
     "metadata": {
      "needs_background": "light"
     },
     "output_type": "display_data"
    }
   ],
   "source": [
    "makeFrontier(portfolio)"
   ]
  },
  {
   "cell_type": "markdown",
   "metadata": {},
   "source": [
    "### Now, we can extend the model to include the captial market line (CML) defined as: \n",
    "$$E(R_p) = R_f + \\frac{\\sigma_p (E(R_m)-R_f)}{\\sigma_m}$$ where $R_f$ is the risk free rate of return,$E(R_m)$ is the expected return of the market, and $\\sigma_m$ is the standard deviation of the market. So the CML can be constructed as follows."
   ]
  },
  {
   "cell_type": "code",
   "execution_count": 100,
   "metadata": {},
   "outputs": [],
   "source": [
    "def port_ret_cml(risk_free,market_vec, stock_vecs, weights):\n",
    "    val = risk_free + (risk_port(weights, stock_vecs)*(expected_value(market_vec)-risk_free))/(np.var(market_vec))\n",
    "    return val"
   ]
  },
  {
   "cell_type": "markdown",
   "metadata": {},
   "source": [
    "### Now, lets say the market return is [.1,.5,.6,1.3,-.1], and the risk free rate is .5 (these are just random numbers) lets get the cml."
   ]
  },
  {
   "cell_type": "code",
   "execution_count": 106,
   "metadata": {},
   "outputs": [
    {
     "name": "stdout",
     "output_type": "stream",
     "text": [
      "5.269926210448869\n"
     ]
    }
   ],
   "source": [
    "market_ret = [.1,.5,.6,1.3,-.1]\n",
    "print(port_ret_cml(.1,market_ret, portfolio, shares))"
   ]
  },
  {
   "cell_type": "code",
   "execution_count": 107,
   "metadata": {},
   "outputs": [],
   "source": [
    "def makeCML(stock_vecs, risk_free,market_vec):\n",
    "    returns = []\n",
    "    stdev = []\n",
    "    w = []\n",
    "    for i in range(6000):\n",
    "        weights = randWeights(len(stock_vecs))\n",
    "        returns.append(port_ret_cml(risk_free,market_vec, stock_vecs, weights))\n",
    "        stdev.append(risk_port(weights, stock_vecs))\n",
    "        w.append(weights)\n",
    "    plt.scatter(stdev, returns)\n",
    "    plt.xlabel(\"risk\")\n",
    "    plt.ylabel(\"return\")\n",
    "    plt.show()"
   ]
  },
  {
   "cell_type": "code",
   "execution_count": 108,
   "metadata": {},
   "outputs": [
    {
     "data": {
      "image/png": "[encoded data removed]",
      "text/plain": [
       "<Figure size 432x288 with 1 Axes>"
      ]
     },
     "metadata": {
      "needs_background": "light"
     },
     "output_type": "display_data"
    }
   ],
   "source": [
    "makeCML(portfolio, .1 ,market_ret)"
   ]
  },
  {
   "cell_type": "code",
   "execution_count": 111,
   "metadata": {},
   "outputs": [],
   "source": [
    "def makeCML_ef(stock_vecs, risk_free,market_vec):\n",
    "    returns_1 = []\n",
    "    stdev_1 = []\n",
    "    w_1 = []\n",
    "    for i in range(6000):\n",
    "        weights = randWeights(len(stock_vecs))\n",
    "        returns_1.append(port_ret_cml(risk_free,market_vec, stock_vecs, weights))\n",
    "        stdev_1.append(risk_port(weights, stock_vecs))\n",
    "        w_1.append(weights)\n",
    "    returns = []\n",
    "    stdev = []\n",
    "    w = []\n",
    "    for i in range(6000):\n",
    "        weights = randWeights(len(stock_vecs))\n",
    "        returns.append(expected_return_port(weights, stock_vecs))\n",
    "        stdev.append(risk_port(weights, stock_vecs))\n",
    "        w.append(weights)\n",
    "    plt.scatter(stdev_1, returns_1)\n",
    "    plt.scatter(stdev, returns)\n",
    "    plt.title(\"Efficient Frontier + CML\")\n",
    "    plt.xlabel(\"risk\")\n",
    "    plt.ylabel(\"return\")\n",
    "    plt.show()"
   ]
  },
  {
   "cell_type": "code",
   "execution_count": 115,
   "metadata": {},
   "outputs": [
    {
     "data": {
      "image/png": "[encoded data removed]",
      "text/plain": [
       "<Figure size 432x288 with 1 Axes>"
      ]
     },
     "metadata": {
      "needs_background": "light"
     },
     "output_type": "display_data"
    }
   ],
   "source": [
    "makeCML_ef(portfolio, .2 ,market_ret)"
   ]
  },
  {
   "cell_type": "code",
   "execution_count": null,
   "metadata": {},
   "outputs": [],
   "source": []
  }
 ],
 "metadata": {
  "kernelspec": {
   "display_name": "Python 3",
   "language": "python",
   "name": "python3"
  },
  "language_info": {
   "codemirror_mode": {
    "name": "ipython",
    "version": 3
   },
   "file_extension": ".py",
   "mimetype": "text/x-python",
   "name": "python",
   "nbconvert_exporter": "python",
   "pygments_lexer": "ipython3",
   "version": "3.8.5"
  }
 },
 "nbformat": 4,
 "nbformat_minor": 4
}
